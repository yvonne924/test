{
 "cells": [
  {
   "cell_type": "markdown",
   "id": "65349a37-b51d-46d8-8e0a-d9b2ebfd2138",
   "metadata": {},
   "source": [
    "# Data Science Tools and Ecosystem\n"
   ]
  },
  {
   "cell_type": "markdown",
   "id": "4b3d6815-b22a-4118-89d3-311f183a3b97",
   "metadata": {
    "tags": []
   },
   "source": [
    "In this notebook, Data Science Tools and Ecosystem are summarized"
   ]
  },
  {
   "cell_type": "markdown",
   "id": "ed675440-05e1-4b71-b4f8-8150c9b22b28",
   "metadata": {
    "tags": []
   },
   "source": [
    "## Some of the popular languages that Data Scientists use are:\n",
    "1. Python\n",
    "2. R\n",
    "3. SQL\n",
    "4. Java"
   ]
  },
  {
   "cell_type": "markdown",
   "id": "f9acce29-6218-4a92-9b08-e7b7651be670",
   "metadata": {},
   "source": [
    "## Some of the commonly used libraries used by Data Scientists include:\n",
    "1. NumPy\n",
    "2. Keras\n",
    "3. Pandas\n",
    "4. Matplotlib"
   ]
  },
  {
   "cell_type": "markdown",
   "id": "572a9257-a9af-44ed-8044-9bb6652b50e8",
   "metadata": {},
   "source": [
    "| Data Science Tools |\n",
    "| -------------| \n",
    "| RStudio | \n",
    "| Apache Spark | \n",
    "| TensorFlow | "
   ]
  },
  {
   "cell_type": "markdown",
   "id": "9b915e89-5f60-4104-befb-03d59889fbe5",
   "metadata": {},
   "source": [
    "### Below are a few examples of evaluating arithmetic expressions in Python"
   ]
  },
  {
   "cell_type": "code",
   "execution_count": 7,
   "id": "ee94e23a-960d-4ecc-9fbc-2e537197756d",
   "metadata": {
    "tags": []
   },
   "outputs": [
    {
     "data": {
      "text/plain": [
       "17"
      ]
     },
     "execution_count": 7,
     "metadata": {},
     "output_type": "execute_result"
    }
   ],
   "source": [
    "# This a simple arithmetic expression to mutiply then add integers\n",
    "3*4+5"
   ]
  },
  {
   "cell_type": "code",
   "execution_count": 14,
   "id": "f38748b3-543b-48d5-9466-26a48001df94",
   "metadata": {
    "tags": []
   },
   "outputs": [
    {
     "name": "stdout",
     "output_type": "stream",
     "text": [
      "3\n"
     ]
    }
   ],
   "source": [
    "#This will convert 200 minutes to hours by diving by 60\n",
    "\n",
    "hours = 220 // 60\n",
    "print(hours)"
   ]
  },
  {
   "cell_type": "markdown",
   "id": "cba11bcb-0a0f-424a-8847-b72f1423d806",
   "metadata": {},
   "source": [
    "**Objectives:**\n",
    "\n",
    "- List popular languages for Data Science.\n",
    "  - Python\n",
    "  - R\n",
    "  - SQL\n",
    "  - Java\n",
    "\n"
   ]
  },
  {
   "cell_type": "markdown",
   "id": "b9c888c9-7da4-4c2a-9b55-89bbb895c555",
   "metadata": {},
   "source": [
    "## Author\n",
    "\n",
    "Yeung Lai\n"
   ]
  },
  {
   "cell_type": "code",
   "execution_count": null,
   "id": "92a97ffb-9e95-46b3-9ab4-2a60ba45776f",
   "metadata": {},
   "outputs": [],
   "source": []
  }
 ],
 "metadata": {
  "kernelspec": {
   "display_name": "Python",
   "language": "python",
   "name": "conda-env-python-py"
  },
  "language_info": {
   "codemirror_mode": {
    "name": "ipython",
    "version": 3
   },
   "file_extension": ".py",
   "mimetype": "text/x-python",
   "name": "python",
   "nbconvert_exporter": "python",
   "pygments_lexer": "ipython3",
   "version": "3.7.12"
  }
 },
 "nbformat": 4,
 "nbformat_minor": 5
}
